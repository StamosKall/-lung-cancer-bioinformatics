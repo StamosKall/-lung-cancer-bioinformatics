{
 "cells": [
  {
   "cell_type": "markdown",
   "metadata": {},
   "source": [
    "# Ανάλυση Γονιδιακής Έκφρασης από GEO (Καρκίνος Πνεύμονα) Ανάλυση δεδομένων από GEO datasets (GSE43458, GSE31210, GSE19804) με στόχο την ταυτοποίηση σημαντικών γονιδίων στον καρκίνο του πνεύμονα.\n"
   ]
  },
  {
   "cell_type": "markdown",
   "metadata": {},
   "source": [
    "# Φόρτωση GEO Datasets"
   ]
  },
  {
   "cell_type": "code",
   "execution_count": 50,
   "metadata": {},
   "outputs": [],
   "source": [
    "import pandas as pd\n",
    "import numpy as np"
   ]
  },
  {
   "cell_type": "code",
   "execution_count": 51,
   "metadata": {},
   "outputs": [],
   "source": [
    "# Φόρτωση datasets\n",
    "df1 = pd.read_csv(\"https://ftp.ncbi.nlm.nih.gov/geo/series/GSE31nnn/GSE31210/matrix/GSE31210_series_matrix.txt.gz\",\n",
    "                  compression='gzip', sep='\\t', comment='!', low_memory=False)\n",
    "\n",
    "df2 = pd.read_csv(\"https://ftp.ncbi.nlm.nih.gov/geo/series/GSE19nnn/GSE19804/matrix/GSE19804_series_matrix.txt.gz\",\n",
    "                  compression='gzip', sep='\\t', comment='!', low_memory=False)"
   ]
  },
  {
   "cell_type": "markdown",
   "metadata": {},
   "source": [
    "# Εύρεση Κοινών Γονιδίων και Προεπεξεργασία"
   ]
  },
  {
   "cell_type": "code",
   "execution_count": 52,
   "metadata": {},
   "outputs": [],
   "source": [
    "# Βεβαιώνουμε ότι η πρώτη στήλη (ID_REF) είναι κοινή και στα τρία datasets\n",
    "genes_1 = set(df1['ID_REF'])\n",
    "genes_2 = set(df2['ID_REF'])"
   ]
  },
  {
   "cell_type": "code",
   "execution_count": 53,
   "metadata": {},
   "outputs": [],
   "source": [
    "common_genes = genes_1.intersection(genes_2).intersection(genes_3)"
   ]
  },
  {
   "cell_type": "code",
   "execution_count": 54,
   "metadata": {},
   "outputs": [],
   "source": [
    "# Φιλτράρισμα των datasets μόνο για κοινά γονίδια\n",
    "df1_filtered = df1[df1['ID_REF'].isin(common_genes)].set_index('ID_REF')\n",
    "df2_filtered = df2[df2['ID_REF'].isin(common_genes)].set_index('ID_REF')"
   ]
  },
  {
   "cell_type": "code",
   "execution_count": 55,
   "metadata": {},
   "outputs": [],
   "source": [
    "# Ταξινόμηση index ώστε να είναι ακριβώς ίδια σειρά\n",
    "df1_filtered = df1[df1['ID_REF'].isin(common_genes)].set_index('ID_REF').sort_index()\n",
    "df2_filtered = df2_filtered.sort_index()"
   ]
  },
  {
   "cell_type": "code",
   "execution_count": 56,
   "metadata": {},
   "outputs": [],
   "source": [
    "# Τελικός έλεγχος για την ταύτιση index\n",
    "assert all(df1_filtered.index == df2_filtered.index)"
   ]
  },
  {
   "cell_type": "code",
   "execution_count": 57,
   "metadata": {},
   "outputs": [],
   "source": [
    "# Συνένωση των δεδομένων\n",
    "df_combined = pd.concat([df1_filtered, df2_filtered,], axis=1)"
   ]
  },
  {
   "cell_type": "markdown",
   "metadata": {},
   "source": [
    "# Έλεγχος Τύπου Αναγνωριστικών (ID_REF)"
   ]
  },
  {
   "cell_type": "code",
   "execution_count": 58,
   "metadata": {},
   "outputs": [
    {
     "name": "stdout",
     "output_type": "stream",
     "text": [
      "GSE43458 IDs: 0    1007_s_at\n",
      "1      1053_at\n",
      "2       117_at\n",
      "3       121_at\n",
      "4    1255_g_at\n",
      "Name: ID_REF, dtype: object\n",
      "GSE31210 IDs: 0    1007_s_at\n",
      "1      1053_at\n",
      "2       117_at\n",
      "3       121_at\n",
      "4    1255_g_at\n",
      "Name: ID_REF, dtype: object\n"
     ]
    }
   ],
   "source": [
    "print(\"GSE43458 IDs:\", df1['ID_REF'].head())\n",
    "print(\"GSE31210 IDs:\", df2['ID_REF'].head())\n",
    "\n"
   ]
  },
  {
   "cell_type": "markdown",
   "metadata": {},
   "source": [
    "# Μετατροπή Αναγνωριστικών σε Gene Symbols"
   ]
  },
  {
   "cell_type": "code",
   "execution_count": 59,
   "metadata": {},
   "outputs": [
    {
     "name": "stdout",
     "output_type": "stream",
     "text": [
      "Index(['ID', 'GB_ACC', 'SPOT_ID', 'Species Scientific Name', 'Annotation Date',\n",
      "       'Sequence Type', 'Sequence Source', 'Target Description',\n",
      "       'Representative Public ID', 'Gene Title', 'Gene Symbol',\n",
      "       'ENTREZ_GENE_ID', 'RefSeq Transcript ID',\n",
      "       'Gene Ontology Biological Process', 'Gene Ontology Cellular Component',\n",
      "       'Gene Ontology Molecular Function'],\n",
      "      dtype='object')\n"
     ]
    }
   ],
   "source": [
    "# Φόρτωσε το αρχείο που κατέβασες\n",
    "annotation = pd.read_csv(\"GPL570-55999.txt\", sep=\"\\t\", comment='#', low_memory=False)\n",
    "\n",
    "# Δες ποιες στήλες έχει\n",
    "print(annotation.columns)\n"
   ]
  },
  {
   "cell_type": "code",
   "execution_count": 60,
   "metadata": {},
   "outputs": [],
   "source": [
    "# Δημιουργούμε ένα λεξικό probe → gene\n",
    "id_to_gene = dict(zip(annotation['ID'], annotation['Gene Symbol']))\n",
    "\n",
    "# Εφαρμόζεις αυτό το mapping στα datasets GSE31210 και GSE19804\n",
    "df2['Gene_Symbol'] = df2['ID_REF'].map(id_to_gene)\n",
    "df1['Gene_Symbol'] = df1['ID_REF'].map(id_to_gene)\n"
   ]
  },
  {
   "cell_type": "markdown",
   "metadata": {},
   "source": [
    "# Ομαδοποίηση Ανά Γονίδιο και Υπολογισμός Έκφρασης\n"
   ]
  },
  {
   "cell_type": "code",
   "execution_count": 61,
   "metadata": {},
   "outputs": [],
   "source": [
    "# Βήμα 1: Κρατάμε μόνο τις αριθμητικές στήλες (δηλαδή τα δείγματα)\n",
    "df2_numeric = df2.select_dtypes(include='number')\n",
    "df1_numeric = df1.select_dtypes(include='number')\n",
    "\n",
    "# Βήμα 2: Προσθέτουμε ξανά τα gene symbols ως στήλη\n",
    "df2_numeric['Gene_Symbol'] = df2['Gene_Symbol']\n",
    "df1_numeric['Gene_Symbol'] = df1['Gene_Symbol']\n",
    "\n",
    "# Βήμα 3: Κάνουμε groupby και υπολογίζουμε τον μέσο όρο για κάθε γονίδιο\n",
    "df2_grouped = df2_numeric.groupby('Gene_Symbol').mean()\n",
    "df1_grouped = df1_numeric.groupby('Gene_Symbol').mean()\n"
   ]
  },
  {
   "cell_type": "markdown",
   "metadata": {},
   "source": [
    "# Τελική Συνένωση Όλων των Δεδομένων\n"
   ]
  },
  {
   "cell_type": "code",
   "execution_count": null,
   "metadata": {},
   "outputs": [],
   "source": [
    "# Συνένωση κατά γονίδιο (γραμμές), οι στήλες (δείγματα) δεν επαναλαμβάνονται\n",
    "combined_df = pd.concat([df2_grouped, df1_grouped], axis=1)\n",
    "\n",
    "# Δες τι φτιάξαμε\n",
    "print(combined_df.shape)\n",
    "combined_df.head()\n"
   ]
  },
  {
   "cell_type": "markdown",
   "metadata": {},
   "source": [
    "# φορτώση δεδομένων και οργάνωση για ανάλυση"
   ]
  },
  {
   "cell_type": "code",
   "execution_count": null,
   "metadata": {},
   "outputs": [
    {
     "name": "stdout",
     "output_type": "stream",
     "text": [
      "🧪 Καρκινικά δείγματα: 286\n",
      "🧪 Φυσιολογικά δείγματα: 80\n",
      "📐 Τελικό σχήμα: (366, 23521)\n"
     ]
    },
    {
     "data": {
      "text/html": [
       "<div>\n",
       "<style scoped>\n",
       "    .dataframe tbody tr th:only-of-type {\n",
       "        vertical-align: middle;\n",
       "    }\n",
       "\n",
       "    .dataframe tbody tr th {\n",
       "        vertical-align: top;\n",
       "    }\n",
       "\n",
       "    .dataframe thead th {\n",
       "        text-align: right;\n",
       "    }\n",
       "</style>\n",
       "<table border=\"1\" class=\"dataframe\">\n",
       "  <thead>\n",
       "    <tr style=\"text-align: right;\">\n",
       "      <th>Gene_Symbol</th>\n",
       "      <th>A1BG</th>\n",
       "      <th>A1BG-AS1</th>\n",
       "      <th>A1CF</th>\n",
       "      <th>A2M</th>\n",
       "      <th>A2M-AS1</th>\n",
       "      <th>A2ML1</th>\n",
       "      <th>A2MP1</th>\n",
       "      <th>A4GALT</th>\n",
       "      <th>A4GNT</th>\n",
       "      <th>AA06</th>\n",
       "      <th>...</th>\n",
       "      <th>ZYG11B</th>\n",
       "      <th>ZYX</th>\n",
       "      <th>ZZEF1</th>\n",
       "      <th>ZZZ3</th>\n",
       "      <th>abParts /// IGKC /// IGKV4-1 /// IGKV4-1</th>\n",
       "      <th>av27s1 /// TRAV39 /// TRAV39</th>\n",
       "      <th>hsa-let-7a-3 /// hsa-let-7b /// hsa-mir-4763 /// MIRLET7BHG /// RP4-695O20__B.10</th>\n",
       "      <th>hsa-let-7a-3 /// hsa-let-7b /// hsa-mir-4763 /// RP4-695O20__B.10</th>\n",
       "      <th>mir-223</th>\n",
       "      <th>label</th>\n",
       "    </tr>\n",
       "  </thead>\n",
       "  <tbody>\n",
       "    <tr>\n",
       "      <th>GSM773540</th>\n",
       "      <td>47.90095</td>\n",
       "      <td>46.825111</td>\n",
       "      <td>72.714534</td>\n",
       "      <td>2228.911570</td>\n",
       "      <td>175.34674</td>\n",
       "      <td>22.831965</td>\n",
       "      <td>15.927107</td>\n",
       "      <td>12.925406</td>\n",
       "      <td>73.018596</td>\n",
       "      <td>101.416950</td>\n",
       "      <td>...</td>\n",
       "      <td>1030.160047</td>\n",
       "      <td>167.89290</td>\n",
       "      <td>345.420567</td>\n",
       "      <td>778.35785</td>\n",
       "      <td>6.886894</td>\n",
       "      <td>22.436699</td>\n",
       "      <td>13.242170</td>\n",
       "      <td>111.81361</td>\n",
       "      <td>13.521504</td>\n",
       "      <td>cancer</td>\n",
       "    </tr>\n",
       "    <tr>\n",
       "      <th>GSM773541</th>\n",
       "      <td>51.64328</td>\n",
       "      <td>8.059568</td>\n",
       "      <td>23.870435</td>\n",
       "      <td>4198.206655</td>\n",
       "      <td>142.80260</td>\n",
       "      <td>23.447401</td>\n",
       "      <td>31.932787</td>\n",
       "      <td>12.202017</td>\n",
       "      <td>46.112976</td>\n",
       "      <td>68.965219</td>\n",
       "      <td>...</td>\n",
       "      <td>2070.380533</td>\n",
       "      <td>487.50920</td>\n",
       "      <td>137.000604</td>\n",
       "      <td>1601.05855</td>\n",
       "      <td>528.101930</td>\n",
       "      <td>4.380360</td>\n",
       "      <td>4.805737</td>\n",
       "      <td>46.92550</td>\n",
       "      <td>105.879995</td>\n",
       "      <td>cancer</td>\n",
       "    </tr>\n",
       "    <tr>\n",
       "      <th>GSM773542</th>\n",
       "      <td>40.98813</td>\n",
       "      <td>10.234848</td>\n",
       "      <td>13.798074</td>\n",
       "      <td>4695.593220</td>\n",
       "      <td>142.81548</td>\n",
       "      <td>11.082931</td>\n",
       "      <td>31.783636</td>\n",
       "      <td>40.485352</td>\n",
       "      <td>51.898190</td>\n",
       "      <td>50.386010</td>\n",
       "      <td>...</td>\n",
       "      <td>1690.349143</td>\n",
       "      <td>384.43770</td>\n",
       "      <td>227.002517</td>\n",
       "      <td>1343.98745</td>\n",
       "      <td>210.150816</td>\n",
       "      <td>6.839572</td>\n",
       "      <td>3.302328</td>\n",
       "      <td>62.00354</td>\n",
       "      <td>205.846188</td>\n",
       "      <td>cancer</td>\n",
       "    </tr>\n",
       "    <tr>\n",
       "      <th>GSM773543</th>\n",
       "      <td>28.38625</td>\n",
       "      <td>8.138013</td>\n",
       "      <td>40.220118</td>\n",
       "      <td>6329.205170</td>\n",
       "      <td>106.75270</td>\n",
       "      <td>16.412923</td>\n",
       "      <td>39.129192</td>\n",
       "      <td>32.542745</td>\n",
       "      <td>19.044909</td>\n",
       "      <td>31.693239</td>\n",
       "      <td>...</td>\n",
       "      <td>2315.690700</td>\n",
       "      <td>330.22475</td>\n",
       "      <td>200.465752</td>\n",
       "      <td>1483.14315</td>\n",
       "      <td>262.979570</td>\n",
       "      <td>27.579258</td>\n",
       "      <td>9.878414</td>\n",
       "      <td>83.47410</td>\n",
       "      <td>21.877117</td>\n",
       "      <td>cancer</td>\n",
       "    </tr>\n",
       "    <tr>\n",
       "      <th>GSM773544</th>\n",
       "      <td>42.09003</td>\n",
       "      <td>10.482582</td>\n",
       "      <td>26.090287</td>\n",
       "      <td>3881.230130</td>\n",
       "      <td>240.99803</td>\n",
       "      <td>17.330212</td>\n",
       "      <td>23.747617</td>\n",
       "      <td>16.267970</td>\n",
       "      <td>32.913082</td>\n",
       "      <td>51.031890</td>\n",
       "      <td>...</td>\n",
       "      <td>1500.671390</td>\n",
       "      <td>274.26120</td>\n",
       "      <td>296.169413</td>\n",
       "      <td>1095.84360</td>\n",
       "      <td>609.263698</td>\n",
       "      <td>10.045916</td>\n",
       "      <td>2.294671</td>\n",
       "      <td>75.77886</td>\n",
       "      <td>17.893558</td>\n",
       "      <td>cancer</td>\n",
       "    </tr>\n",
       "  </tbody>\n",
       "</table>\n",
       "<p>5 rows × 23521 columns</p>\n",
       "</div>"
      ],
      "text/plain": [
       "Gene_Symbol      A1BG   A1BG-AS1       A1CF          A2M    A2M-AS1  \\\n",
       "GSM773540    47.90095  46.825111  72.714534  2228.911570  175.34674   \n",
       "GSM773541    51.64328   8.059568  23.870435  4198.206655  142.80260   \n",
       "GSM773542    40.98813  10.234848  13.798074  4695.593220  142.81548   \n",
       "GSM773543    28.38625   8.138013  40.220118  6329.205170  106.75270   \n",
       "GSM773544    42.09003  10.482582  26.090287  3881.230130  240.99803   \n",
       "\n",
       "Gene_Symbol      A2ML1      A2MP1     A4GALT      A4GNT        AA06  ...  \\\n",
       "GSM773540    22.831965  15.927107  12.925406  73.018596  101.416950  ...   \n",
       "GSM773541    23.447401  31.932787  12.202017  46.112976   68.965219  ...   \n",
       "GSM773542    11.082931  31.783636  40.485352  51.898190   50.386010  ...   \n",
       "GSM773543    16.412923  39.129192  32.542745  19.044909   31.693239  ...   \n",
       "GSM773544    17.330212  23.747617  16.267970  32.913082   51.031890  ...   \n",
       "\n",
       "Gene_Symbol       ZYG11B        ZYX       ZZEF1        ZZZ3  \\\n",
       "GSM773540    1030.160047  167.89290  345.420567   778.35785   \n",
       "GSM773541    2070.380533  487.50920  137.000604  1601.05855   \n",
       "GSM773542    1690.349143  384.43770  227.002517  1343.98745   \n",
       "GSM773543    2315.690700  330.22475  200.465752  1483.14315   \n",
       "GSM773544    1500.671390  274.26120  296.169413  1095.84360   \n",
       "\n",
       "Gene_Symbol  abParts /// IGKC /// IGKV4-1 /// IGKV4-1  \\\n",
       "GSM773540                                    6.886894   \n",
       "GSM773541                                  528.101930   \n",
       "GSM773542                                  210.150816   \n",
       "GSM773543                                  262.979570   \n",
       "GSM773544                                  609.263698   \n",
       "\n",
       "Gene_Symbol  av27s1 /// TRAV39 /// TRAV39  \\\n",
       "GSM773540                       22.436699   \n",
       "GSM773541                        4.380360   \n",
       "GSM773542                        6.839572   \n",
       "GSM773543                       27.579258   \n",
       "GSM773544                       10.045916   \n",
       "\n",
       "Gene_Symbol  hsa-let-7a-3 /// hsa-let-7b /// hsa-mir-4763 /// MIRLET7BHG /// RP4-695O20__B.10  \\\n",
       "GSM773540                                            13.242170                                  \n",
       "GSM773541                                             4.805737                                  \n",
       "GSM773542                                             3.302328                                  \n",
       "GSM773543                                             9.878414                                  \n",
       "GSM773544                                             2.294671                                  \n",
       "\n",
       "Gene_Symbol  hsa-let-7a-3 /// hsa-let-7b /// hsa-mir-4763 /// RP4-695O20__B.10  \\\n",
       "GSM773540                                            111.81361                   \n",
       "GSM773541                                             46.92550                   \n",
       "GSM773542                                             62.00354                   \n",
       "GSM773543                                             83.47410                   \n",
       "GSM773544                                             75.77886                   \n",
       "\n",
       "Gene_Symbol     mir-223   label  \n",
       "GSM773540     13.521504  cancer  \n",
       "GSM773541    105.879995  cancer  \n",
       "GSM773542    205.846188  cancer  \n",
       "GSM773543     21.877117  cancer  \n",
       "GSM773544     17.893558  cancer  \n",
       "\n",
       "[5 rows x 23521 columns]"
      ]
     },
     "execution_count": 73,
     "metadata": {},
     "output_type": "execute_result"
    }
   ],
   "source": [
    "# Διαβάζει τα sample IDs\n",
    "def load_clean_ids(path):\n",
    "    with open(path, 'r') as f:\n",
    "        return [line.strip().replace('\"', '') for line in f if line.strip()]\n",
    "\n",
    "cancer_samples = load_clean_ids(\"./cancer.txt\")\n",
    "normal_samples = load_clean_ids(\"./normal.txt\")\n",
    "\n",
    "# Φιλτράρει όσα υπάρχουν στο combined_df\n",
    "cancer_samples = [s for s in cancer_samples if s in combined_df.columns]\n",
    "normal_samples = [s for s in normal_samples if s in combined_df.columns]\n",
    "\n",
    "print(f\"Καρκινικά δείγματα: {len(cancer_samples)}\")\n",
    "print(f\"Φυσιολογικά δείγματα: {len(normal_samples)}\")\n",
    "\n",
    "# Δημιουργει dataset για ανάλυση\n",
    "import pandas as pd\n",
    "\n",
    "labels = pd.Series(\n",
    "    ['cancer'] * len(cancer_samples) + ['normal'] * len(normal_samples),\n",
    "    index=cancer_samples + normal_samples,\n",
    "    name='label'\n",
    ")\n",
    "\n",
    "# Τελικό dataset (δείγματα x γονίδια + label)\n",
    "expression_data = combined_df[cancer_samples + normal_samples].T\n",
    "expression_data['label'] = labels\n",
    "\n",
    "# ✅ Επιβεβαίωση\n",
    "print(\"📐 Τελικό σχήμα:\", expression_data.shape)\n",
    "expression_data.head()\n"
   ]
  }
 ],
 "metadata": {
  "kernelspec": {
   "display_name": "Python 3",
   "language": "python",
   "name": "python3"
  },
  "language_info": {
   "codemirror_mode": {
    "name": "ipython",
    "version": 3
   },
   "file_extension": ".py",
   "mimetype": "text/x-python",
   "name": "python",
   "nbconvert_exporter": "python",
   "pygments_lexer": "ipython3",
   "version": "3.10.11"
  }
 },
 "nbformat": 4,
 "nbformat_minor": 2
}
